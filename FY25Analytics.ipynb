{
  "nbformat": 4,
  "nbformat_minor": 0,
  "metadata": {
    "colab": {
      "provenance": [],
      "authorship_tag": "ABX9TyPCc3AsWcyiav3vurDf1ThK",
      "include_colab_link": true
    },
    "kernelspec": {
      "name": "python3",
      "display_name": "Python 3"
    },
    "language_info": {
      "name": "python"
    }
  },
  "cells": [
    {
      "cell_type": "markdown",
      "metadata": {
        "id": "view-in-github",
        "colab_type": "text"
      },
      "source": [
        "<a href=\"https://colab.research.google.com/github/RMBAnalytics/tcueventdashboard/blob/main/FY25Analytics.ipynb\" target=\"_parent\"><img src=\"https://colab.research.google.com/assets/colab-badge.svg\" alt=\"Open In Colab\"/></a>"
      ]
    },
    {
      "cell_type": "code",
      "execution_count": null,
      "metadata": {
        "id": "va_nIsNaWD8p"
      },
      "outputs": [],
      "source": [
        "import streamlit as st\n",
        "import pandas as pd\n",
        "import altair as alt\n",
        "\n",
        "# Load data\n",
        "df = pd.read_excel(\"FY25 Event Registrants 7-7v2.xlsx\", sheet_name=0)\n",
        "df = df.drop(columns=[col for col in df.columns if 'Unnamed' in col])\n",
        "df['Paid'] = df['Paid'].map({'Yes': True, 'No': False})\n",
        "\n",
        "# Sidebar Filters\n",
        "chapters = df['Chapter/Club/Group'].unique()\n",
        "event_types = df['Event Type'].unique()\n",
        "\n",
        "selected_chapters = st.sidebar.multiselect(\"Select Chapters/Groups\", chapters, default=list(chapters))\n",
        "selected_types = st.sidebar.multiselect(\"Select Event Types\", event_types, default=list(event_types))\n",
        "\n",
        "filtered_df = df[df['Chapter/Club/Group'].isin(selected_chapters) & df['Event Type'].isin(selected_types)]\n",
        "\n",
        "# Summary Metrics\n",
        "total_registrants = filtered_df['Registrants'].sum()\n",
        "total_known = filtered_df['Known Registrants'].sum()\n",
        "total_events = len(filtered_df)\n",
        "\n",
        "st.title(\"FY25 Event Registration Dashboard\")\n",
        "\n",
        "col1, col2, col3 = st.columns(3)\n",
        "col1.metric(\"Total Registrants\", total_registrants)\n",
        "col2.metric(\"Known Registrants\", total_known)\n",
        "col3.metric(\"Number of Events\", total_events)\n",
        "\n",
        "# Charts\n",
        "st.subheader(\"Registrants by Chapter/Group\")\n",
        "chapter_chart = alt.Chart(\n",
        "    filtered_df.groupby('Chapter/Club/Group')['Registrants'].sum().reset_index()\n",
        ").mark_bar().encode(\n",
        "    x=alt.X('Registrants:Q', title='Total Registrants'),\n",
        "    y=alt.Y('Chapter/Club/Group:N', sort='-x', title='Chapter/Group'),\n",
        "    tooltip=['Chapter/Club/Group', 'Registrants']\n",
        ").properties(height=400)\n",
        "\n",
        "st.altair_chart(chapter_chart, use_container_width=True)\n",
        "\n",
        "st.subheader(\"Registrants by Event Type\")\n",
        "type_chart = alt.Chart(\n",
        "    filtered_df.groupby('Event Type')['Registrants'].sum().reset_index()\n",
        ").mark_bar().encode(\n",
        "    x=alt.X('Registrants:Q', title='Total Registrants'),\n",
        "    y=alt.Y('Event Type:N', sort='-x'),\n",
        "    tooltip=['Event Type', 'Registrants']\n",
        ").properties(height=300)\n",
        "\n",
        "st.altair_chart(type_chart, use_container_width=True)\n",
        "\n",
        "st.subheader(\"Event Table\")\n",
        "st.dataframe(filtered_df.sort_values(by='Event start date'))\n"
      ]
    }
  ]
}